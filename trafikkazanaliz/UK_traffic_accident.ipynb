{
 "cells": [
  {
   "cell_type": "markdown",
   "id": "1a8f614b",
   "metadata": {},
   "source": [
    "# 1.6 MILLION UK TRAFFIC ACCIDENTS"
   ]
  },
  {
   "cell_type": "markdown",
   "id": "2058c27c",
   "metadata": {},
   "source": [
    "Problem tanımı ve amaç: Bu veri seti UK’de 2000-2016 yıllarına ait 1.6 milyondan fazla trafik kazası verilerini içermektedir. Bu veri seti aracılığıyla aşağıdaki gibi sorulara yanıt aranmaktadır."
   ]
  },
  {
   "cell_type": "markdown",
   "id": "80cb0e8f",
   "metadata": {},
   "source": [
    "Trafik akışının değişmesi kazaları nasıl etkiler?\n",
    "Kaza oranlarını ne artırır?\n",
    "Zaman içinde kaza oranlarını tahmin edebilir miyiz?\n",
    "Kırsal ve kentsel alanlar nasıl farklılaştı?"
   ]
  },
  {
   "cell_type": "code",
   "execution_count": 1,
   "id": "d2174a73",
   "metadata": {},
   "outputs": [],
   "source": [
    "import pandas as pd \n",
    "import numpy as np \n",
    "import seaborn as sns \n",
    "import matplotlib.pyplot as plt\n",
    "from matplotlib.pyplot import figure\n",
    "from plotly.subplots import make_subplots\n",
    "import plotly.graph_objs as go"
   ]
  },
  {
   "cell_type": "code",
   "execution_count": 2,
   "id": "44e5f26b",
   "metadata": {},
   "outputs": [
    {
     "name": "stderr",
     "output_type": "stream",
     "text": [
      "C:\\Users\\ilayd\\AppData\\Local\\Temp\\ipykernel_20156\\1365006526.py:1: DtypeWarning: Columns (31) have mixed types. Specify dtype option on import or set low_memory=False.\n",
      "  data1 = pd.read_csv(\"accidents_2005_to_2007.csv\")\n",
      "C:\\Users\\ilayd\\AppData\\Local\\Temp\\ipykernel_20156\\1365006526.py:3: DtypeWarning: Columns (31) have mixed types. Specify dtype option on import or set low_memory=False.\n",
      "  data3 = pd.read_csv(\"accidents_2012_to_2014.csv\")\n"
     ]
    }
   ],
   "source": [
    "data1 = pd.read_csv(\"accidents_2005_to_2007.csv\")\n",
    "data2 = pd.read_csv(\"accidents_2009_to_2011.csv\" )\n",
    "data3 = pd.read_csv(\"accidents_2012_to_2014.csv\")\n",
    "alldata = pd.concat([data1,data2,data3])"
   ]
  },
  {
   "cell_type": "code",
   "execution_count": 3,
   "id": "3f3663e5",
   "metadata": {},
   "outputs": [
    {
     "data": {
      "text/plain": [
       "(1504150, 33)"
      ]
     },
     "execution_count": 3,
     "metadata": {},
     "output_type": "execute_result"
    }
   ],
   "source": [
    "alldata.shape"
   ]
  },
  {
   "cell_type": "code",
   "execution_count": 4,
   "id": "aa419ade",
   "metadata": {},
   "outputs": [
    {
     "data": {
      "text/plain": [
       "Accident_Index                                       0\n",
       "Location_Easting_OSGR                              101\n",
       "Location_Northing_OSGR                             101\n",
       "Longitude                                          101\n",
       "Latitude                                           101\n",
       "Police_Force                                         0\n",
       "Accident_Severity                                    0\n",
       "Number_of_Vehicles                                   0\n",
       "Number_of_Casualties                                 0\n",
       "Date                                                 0\n",
       "Day_of_Week                                          0\n",
       "Time                                               117\n",
       "Local_Authority_(District)                           0\n",
       "Local_Authority_(Highway)                            0\n",
       "1st_Road_Class                                       0\n",
       "1st_Road_Number                                      0\n",
       "Road_Type                                            0\n",
       "Speed_limit                                          0\n",
       "Junction_Detail                                1504150\n",
       "Junction_Control                                602835\n",
       "2nd_Road_Class                                       0\n",
       "2nd_Road_Number                                      0\n",
       "Pedestrian_Crossing-Human_Control                   17\n",
       "Pedestrian_Crossing-Physical_Facilities             34\n",
       "Light_Conditions                                     0\n",
       "Weather_Conditions                                 126\n",
       "Road_Surface_Conditions                           1958\n",
       "Special_Conditions_at_Site                          15\n",
       "Carriageway_Hazards                                 29\n",
       "Urban_or_Rural_Area                                  0\n",
       "Did_Police_Officer_Attend_Scene_of_Accident       2922\n",
       "LSOA_of_Accident_Location                       108238\n",
       "Year                                                 0\n",
       "dtype: int64"
      ]
     },
     "execution_count": 4,
     "metadata": {},
     "output_type": "execute_result"
    }
   ],
   "source": [
    "alldata.isnull().sum()"
   ]
  },
  {
   "cell_type": "code",
   "execution_count": 5,
   "id": "aa9bdd48",
   "metadata": {},
   "outputs": [
    {
     "data": {
      "text/html": [
       "<div>\n",
       "<style scoped>\n",
       "    .dataframe tbody tr th:only-of-type {\n",
       "        vertical-align: middle;\n",
       "    }\n",
       "\n",
       "    .dataframe tbody tr th {\n",
       "        vertical-align: top;\n",
       "    }\n",
       "\n",
       "    .dataframe thead th {\n",
       "        text-align: right;\n",
       "    }\n",
       "</style>\n",
       "<table border=\"1\" class=\"dataframe\">\n",
       "  <thead>\n",
       "    <tr style=\"text-align: right;\">\n",
       "      <th></th>\n",
       "      <th>Accident_Index</th>\n",
       "      <th>Location_Easting_OSGR</th>\n",
       "      <th>Location_Northing_OSGR</th>\n",
       "      <th>Longitude</th>\n",
       "      <th>Latitude</th>\n",
       "      <th>Police_Force</th>\n",
       "      <th>Accident_Severity</th>\n",
       "      <th>Number_of_Vehicles</th>\n",
       "      <th>Number_of_Casualties</th>\n",
       "      <th>Date</th>\n",
       "      <th>...</th>\n",
       "      <th>Pedestrian_Crossing-Physical_Facilities</th>\n",
       "      <th>Light_Conditions</th>\n",
       "      <th>Weather_Conditions</th>\n",
       "      <th>Road_Surface_Conditions</th>\n",
       "      <th>Special_Conditions_at_Site</th>\n",
       "      <th>Carriageway_Hazards</th>\n",
       "      <th>Urban_or_Rural_Area</th>\n",
       "      <th>Did_Police_Officer_Attend_Scene_of_Accident</th>\n",
       "      <th>LSOA_of_Accident_Location</th>\n",
       "      <th>Year</th>\n",
       "    </tr>\n",
       "  </thead>\n",
       "  <tbody>\n",
       "    <tr>\n",
       "      <th>0</th>\n",
       "      <td>200501BS00001</td>\n",
       "      <td>525680.0</td>\n",
       "      <td>178240.0</td>\n",
       "      <td>-0.191170</td>\n",
       "      <td>51.489096</td>\n",
       "      <td>1</td>\n",
       "      <td>2</td>\n",
       "      <td>1</td>\n",
       "      <td>1</td>\n",
       "      <td>04/01/2005</td>\n",
       "      <td>...</td>\n",
       "      <td>Zebra crossing</td>\n",
       "      <td>Daylight: Street light present</td>\n",
       "      <td>Raining without high winds</td>\n",
       "      <td>Wet/Damp</td>\n",
       "      <td>None</td>\n",
       "      <td>None</td>\n",
       "      <td>1</td>\n",
       "      <td>Yes</td>\n",
       "      <td>E01002849</td>\n",
       "      <td>2005</td>\n",
       "    </tr>\n",
       "    <tr>\n",
       "      <th>1</th>\n",
       "      <td>200501BS00002</td>\n",
       "      <td>524170.0</td>\n",
       "      <td>181650.0</td>\n",
       "      <td>-0.211708</td>\n",
       "      <td>51.520075</td>\n",
       "      <td>1</td>\n",
       "      <td>3</td>\n",
       "      <td>1</td>\n",
       "      <td>1</td>\n",
       "      <td>05/01/2005</td>\n",
       "      <td>...</td>\n",
       "      <td>Pedestrian phase at traffic signal junction</td>\n",
       "      <td>Darkness: Street lights present and lit</td>\n",
       "      <td>Fine without high winds</td>\n",
       "      <td>Dry</td>\n",
       "      <td>None</td>\n",
       "      <td>None</td>\n",
       "      <td>1</td>\n",
       "      <td>Yes</td>\n",
       "      <td>E01002909</td>\n",
       "      <td>2005</td>\n",
       "    </tr>\n",
       "    <tr>\n",
       "      <th>2</th>\n",
       "      <td>200501BS00003</td>\n",
       "      <td>524520.0</td>\n",
       "      <td>182240.0</td>\n",
       "      <td>-0.206458</td>\n",
       "      <td>51.525301</td>\n",
       "      <td>1</td>\n",
       "      <td>3</td>\n",
       "      <td>2</td>\n",
       "      <td>1</td>\n",
       "      <td>06/01/2005</td>\n",
       "      <td>...</td>\n",
       "      <td>No physical crossing within 50 meters</td>\n",
       "      <td>Darkness: Street lights present and lit</td>\n",
       "      <td>Fine without high winds</td>\n",
       "      <td>Dry</td>\n",
       "      <td>None</td>\n",
       "      <td>None</td>\n",
       "      <td>1</td>\n",
       "      <td>Yes</td>\n",
       "      <td>E01002857</td>\n",
       "      <td>2005</td>\n",
       "    </tr>\n",
       "    <tr>\n",
       "      <th>3</th>\n",
       "      <td>200501BS00004</td>\n",
       "      <td>526900.0</td>\n",
       "      <td>177530.0</td>\n",
       "      <td>-0.173862</td>\n",
       "      <td>51.482442</td>\n",
       "      <td>1</td>\n",
       "      <td>3</td>\n",
       "      <td>1</td>\n",
       "      <td>1</td>\n",
       "      <td>07/01/2005</td>\n",
       "      <td>...</td>\n",
       "      <td>No physical crossing within 50 meters</td>\n",
       "      <td>Daylight: Street light present</td>\n",
       "      <td>Fine without high winds</td>\n",
       "      <td>Dry</td>\n",
       "      <td>None</td>\n",
       "      <td>None</td>\n",
       "      <td>1</td>\n",
       "      <td>Yes</td>\n",
       "      <td>E01002840</td>\n",
       "      <td>2005</td>\n",
       "    </tr>\n",
       "    <tr>\n",
       "      <th>4</th>\n",
       "      <td>200501BS00005</td>\n",
       "      <td>528060.0</td>\n",
       "      <td>179040.0</td>\n",
       "      <td>-0.156618</td>\n",
       "      <td>51.495752</td>\n",
       "      <td>1</td>\n",
       "      <td>3</td>\n",
       "      <td>1</td>\n",
       "      <td>1</td>\n",
       "      <td>10/01/2005</td>\n",
       "      <td>...</td>\n",
       "      <td>No physical crossing within 50 meters</td>\n",
       "      <td>Darkness: Street lighting unknown</td>\n",
       "      <td>Fine without high winds</td>\n",
       "      <td>Wet/Damp</td>\n",
       "      <td>None</td>\n",
       "      <td>None</td>\n",
       "      <td>1</td>\n",
       "      <td>Yes</td>\n",
       "      <td>E01002863</td>\n",
       "      <td>2005</td>\n",
       "    </tr>\n",
       "    <tr>\n",
       "      <th>...</th>\n",
       "      <td>...</td>\n",
       "      <td>...</td>\n",
       "      <td>...</td>\n",
       "      <td>...</td>\n",
       "      <td>...</td>\n",
       "      <td>...</td>\n",
       "      <td>...</td>\n",
       "      <td>...</td>\n",
       "      <td>...</td>\n",
       "      <td>...</td>\n",
       "      <td>...</td>\n",
       "      <td>...</td>\n",
       "      <td>...</td>\n",
       "      <td>...</td>\n",
       "      <td>...</td>\n",
       "      <td>...</td>\n",
       "      <td>...</td>\n",
       "      <td>...</td>\n",
       "      <td>...</td>\n",
       "      <td>...</td>\n",
       "      <td>...</td>\n",
       "    </tr>\n",
       "    <tr>\n",
       "      <th>464692</th>\n",
       "      <td>2.01E+12</td>\n",
       "      <td>310037.0</td>\n",
       "      <td>597647.0</td>\n",
       "      <td>-3.417278</td>\n",
       "      <td>55.264773</td>\n",
       "      <td>98</td>\n",
       "      <td>2</td>\n",
       "      <td>2</td>\n",
       "      <td>1</td>\n",
       "      <td>07/12/2014</td>\n",
       "      <td>...</td>\n",
       "      <td>No physical crossing within 50 meters</td>\n",
       "      <td>Darkeness: No street lighting</td>\n",
       "      <td>Snowing without high winds</td>\n",
       "      <td>Snow</td>\n",
       "      <td>None</td>\n",
       "      <td>None</td>\n",
       "      <td>2</td>\n",
       "      <td>Yes</td>\n",
       "      <td>NaN</td>\n",
       "      <td>2014</td>\n",
       "    </tr>\n",
       "    <tr>\n",
       "      <th>464693</th>\n",
       "      <td>2.01E+12</td>\n",
       "      <td>321509.0</td>\n",
       "      <td>574063.0</td>\n",
       "      <td>-3.230255</td>\n",
       "      <td>55.054855</td>\n",
       "      <td>98</td>\n",
       "      <td>3</td>\n",
       "      <td>2</td>\n",
       "      <td>2</td>\n",
       "      <td>11/12/2014</td>\n",
       "      <td>...</td>\n",
       "      <td>No physical crossing within 50 meters</td>\n",
       "      <td>Darkeness: No street lighting</td>\n",
       "      <td>Fine without high winds</td>\n",
       "      <td>Snow</td>\n",
       "      <td>None</td>\n",
       "      <td>None</td>\n",
       "      <td>2</td>\n",
       "      <td>Yes</td>\n",
       "      <td>NaN</td>\n",
       "      <td>2014</td>\n",
       "    </tr>\n",
       "    <tr>\n",
       "      <th>464694</th>\n",
       "      <td>2.01E+12</td>\n",
       "      <td>321337.0</td>\n",
       "      <td>566365.0</td>\n",
       "      <td>-3.230826</td>\n",
       "      <td>54.985668</td>\n",
       "      <td>98</td>\n",
       "      <td>3</td>\n",
       "      <td>1</td>\n",
       "      <td>1</td>\n",
       "      <td>09/12/2014</td>\n",
       "      <td>...</td>\n",
       "      <td>No physical crossing within 50 meters</td>\n",
       "      <td>Darkness: Street lights present and lit</td>\n",
       "      <td>Fine without high winds</td>\n",
       "      <td>Frost/Ice</td>\n",
       "      <td>None</td>\n",
       "      <td>None</td>\n",
       "      <td>2</td>\n",
       "      <td>Yes</td>\n",
       "      <td>NaN</td>\n",
       "      <td>2014</td>\n",
       "    </tr>\n",
       "    <tr>\n",
       "      <th>464695</th>\n",
       "      <td>2.01E+12</td>\n",
       "      <td>323869.0</td>\n",
       "      <td>566853.0</td>\n",
       "      <td>-3.191397</td>\n",
       "      <td>54.990446</td>\n",
       "      <td>98</td>\n",
       "      <td>2</td>\n",
       "      <td>3</td>\n",
       "      <td>2</td>\n",
       "      <td>17/12/2014</td>\n",
       "      <td>...</td>\n",
       "      <td>No physical crossing within 50 meters</td>\n",
       "      <td>Darkeness: No street lighting</td>\n",
       "      <td>Raining without high winds</td>\n",
       "      <td>Wet/Damp</td>\n",
       "      <td>None</td>\n",
       "      <td>None</td>\n",
       "      <td>2</td>\n",
       "      <td>Yes</td>\n",
       "      <td>NaN</td>\n",
       "      <td>2014</td>\n",
       "    </tr>\n",
       "    <tr>\n",
       "      <th>464696</th>\n",
       "      <td>2.01E+12</td>\n",
       "      <td>314072.0</td>\n",
       "      <td>579971.0</td>\n",
       "      <td>-3.348426</td>\n",
       "      <td>55.106700</td>\n",
       "      <td>98</td>\n",
       "      <td>3</td>\n",
       "      <td>2</td>\n",
       "      <td>2</td>\n",
       "      <td>24/12/2014</td>\n",
       "      <td>...</td>\n",
       "      <td>No physical crossing within 50 meters</td>\n",
       "      <td>Daylight: Street light present</td>\n",
       "      <td>Fine without high winds</td>\n",
       "      <td>Wet/Damp</td>\n",
       "      <td>None</td>\n",
       "      <td>None</td>\n",
       "      <td>2</td>\n",
       "      <td>Yes</td>\n",
       "      <td>NaN</td>\n",
       "      <td>2014</td>\n",
       "    </tr>\n",
       "  </tbody>\n",
       "</table>\n",
       "<p>1504150 rows × 33 columns</p>\n",
       "</div>"
      ],
      "text/plain": [
       "       Accident_Index  Location_Easting_OSGR  Location_Northing_OSGR  \\\n",
       "0       200501BS00001               525680.0                178240.0   \n",
       "1       200501BS00002               524170.0                181650.0   \n",
       "2       200501BS00003               524520.0                182240.0   \n",
       "3       200501BS00004               526900.0                177530.0   \n",
       "4       200501BS00005               528060.0                179040.0   \n",
       "...               ...                    ...                     ...   \n",
       "464692       2.01E+12               310037.0                597647.0   \n",
       "464693       2.01E+12               321509.0                574063.0   \n",
       "464694       2.01E+12               321337.0                566365.0   \n",
       "464695       2.01E+12               323869.0                566853.0   \n",
       "464696       2.01E+12               314072.0                579971.0   \n",
       "\n",
       "        Longitude   Latitude  Police_Force  Accident_Severity  \\\n",
       "0       -0.191170  51.489096             1                  2   \n",
       "1       -0.211708  51.520075             1                  3   \n",
       "2       -0.206458  51.525301             1                  3   \n",
       "3       -0.173862  51.482442             1                  3   \n",
       "4       -0.156618  51.495752             1                  3   \n",
       "...           ...        ...           ...                ...   \n",
       "464692  -3.417278  55.264773            98                  2   \n",
       "464693  -3.230255  55.054855            98                  3   \n",
       "464694  -3.230826  54.985668            98                  3   \n",
       "464695  -3.191397  54.990446            98                  2   \n",
       "464696  -3.348426  55.106700            98                  3   \n",
       "\n",
       "        Number_of_Vehicles  Number_of_Casualties        Date  ...  \\\n",
       "0                        1                     1  04/01/2005  ...   \n",
       "1                        1                     1  05/01/2005  ...   \n",
       "2                        2                     1  06/01/2005  ...   \n",
       "3                        1                     1  07/01/2005  ...   \n",
       "4                        1                     1  10/01/2005  ...   \n",
       "...                    ...                   ...         ...  ...   \n",
       "464692                   2                     1  07/12/2014  ...   \n",
       "464693                   2                     2  11/12/2014  ...   \n",
       "464694                   1                     1  09/12/2014  ...   \n",
       "464695                   3                     2  17/12/2014  ...   \n",
       "464696                   2                     2  24/12/2014  ...   \n",
       "\n",
       "            Pedestrian_Crossing-Physical_Facilities  \\\n",
       "0                                    Zebra crossing   \n",
       "1       Pedestrian phase at traffic signal junction   \n",
       "2             No physical crossing within 50 meters   \n",
       "3             No physical crossing within 50 meters   \n",
       "4             No physical crossing within 50 meters   \n",
       "...                                             ...   \n",
       "464692        No physical crossing within 50 meters   \n",
       "464693        No physical crossing within 50 meters   \n",
       "464694        No physical crossing within 50 meters   \n",
       "464695        No physical crossing within 50 meters   \n",
       "464696        No physical crossing within 50 meters   \n",
       "\n",
       "                               Light_Conditions          Weather_Conditions  \\\n",
       "0                Daylight: Street light present  Raining without high winds   \n",
       "1       Darkness: Street lights present and lit     Fine without high winds   \n",
       "2       Darkness: Street lights present and lit     Fine without high winds   \n",
       "3                Daylight: Street light present     Fine without high winds   \n",
       "4             Darkness: Street lighting unknown     Fine without high winds   \n",
       "...                                         ...                         ...   \n",
       "464692            Darkeness: No street lighting  Snowing without high winds   \n",
       "464693            Darkeness: No street lighting     Fine without high winds   \n",
       "464694  Darkness: Street lights present and lit     Fine without high winds   \n",
       "464695            Darkeness: No street lighting  Raining without high winds   \n",
       "464696           Daylight: Street light present     Fine without high winds   \n",
       "\n",
       "       Road_Surface_Conditions  Special_Conditions_at_Site  \\\n",
       "0                     Wet/Damp                        None   \n",
       "1                          Dry                        None   \n",
       "2                          Dry                        None   \n",
       "3                          Dry                        None   \n",
       "4                     Wet/Damp                        None   \n",
       "...                        ...                         ...   \n",
       "464692                    Snow                        None   \n",
       "464693                    Snow                        None   \n",
       "464694               Frost/Ice                        None   \n",
       "464695                Wet/Damp                        None   \n",
       "464696                Wet/Damp                        None   \n",
       "\n",
       "        Carriageway_Hazards Urban_or_Rural_Area  \\\n",
       "0                      None                   1   \n",
       "1                      None                   1   \n",
       "2                      None                   1   \n",
       "3                      None                   1   \n",
       "4                      None                   1   \n",
       "...                     ...                 ...   \n",
       "464692                 None                   2   \n",
       "464693                 None                   2   \n",
       "464694                 None                   2   \n",
       "464695                 None                   2   \n",
       "464696                 None                   2   \n",
       "\n",
       "        Did_Police_Officer_Attend_Scene_of_Accident  \\\n",
       "0                                               Yes   \n",
       "1                                               Yes   \n",
       "2                                               Yes   \n",
       "3                                               Yes   \n",
       "4                                               Yes   \n",
       "...                                             ...   \n",
       "464692                                          Yes   \n",
       "464693                                          Yes   \n",
       "464694                                          Yes   \n",
       "464695                                          Yes   \n",
       "464696                                          Yes   \n",
       "\n",
       "        LSOA_of_Accident_Location  Year  \n",
       "0                       E01002849  2005  \n",
       "1                       E01002909  2005  \n",
       "2                       E01002857  2005  \n",
       "3                       E01002840  2005  \n",
       "4                       E01002863  2005  \n",
       "...                           ...   ...  \n",
       "464692                        NaN  2014  \n",
       "464693                        NaN  2014  \n",
       "464694                        NaN  2014  \n",
       "464695                        NaN  2014  \n",
       "464696                        NaN  2014  \n",
       "\n",
       "[1504150 rows x 33 columns]"
      ]
     },
     "execution_count": 5,
     "metadata": {},
     "output_type": "execute_result"
    }
   ],
   "source": [
    "alldata"
   ]
  },
  {
   "cell_type": "code",
   "execution_count": 6,
   "id": "ea0425c1",
   "metadata": {},
   "outputs": [],
   "source": [
    "alldata = alldata.loc[:,[\"Accident_Severity\", # kaza şiddeti\n",
    "                         \"Number_of_Casualties\", # Kayıp Sayısı\n",
    "                         \"Number_of_Vehicles\", #araç sayısı\n",
    "                         \"Day_of_Week\",# Haftanın Günü\n",
    "                         \"Date\",# Tarih\n",
    "                         \"Time\",#Saat\n",
    "                         \"Local_Authority_(District)\",# Yerel Yönetim (Bölge)\n",
    "                         \"Local_Authority_(Highway)\",# Yerel Yönetim (Otoyol)\n",
    "                         \"Road_Type\", # Yol Tipi\n",
    "                         \"Speed_limit\",# Hız sınırı\n",
    "                         \"Light_Conditions\",# ışık koşulları\n",
    "                         \"Weather_Conditions\",# hava koşulları\n",
    "                        \"Road_Surface_Conditions\",# yol Yüzey Koşulları\n",
    "                         \"Year\",# Yıl\n",
    "                         \"Urban_or_Rural_Area\",  #Kentsel veya Kırsal Alan \n",
    "                         \"Carriageway_Hazards\" #Anayol Tehlikeleri\n",
    "     \n",
    "                         \n",
    "                         \n",
    "                        ]]\n"
   ]
  },
  {
   "cell_type": "code",
   "execution_count": 7,
   "id": "de324f78",
   "metadata": {},
   "outputs": [
    {
     "data": {
      "text/html": [
       "<div>\n",
       "<style scoped>\n",
       "    .dataframe tbody tr th:only-of-type {\n",
       "        vertical-align: middle;\n",
       "    }\n",
       "\n",
       "    .dataframe tbody tr th {\n",
       "        vertical-align: top;\n",
       "    }\n",
       "\n",
       "    .dataframe thead th {\n",
       "        text-align: right;\n",
       "    }\n",
       "</style>\n",
       "<table border=\"1\" class=\"dataframe\">\n",
       "  <thead>\n",
       "    <tr style=\"text-align: right;\">\n",
       "      <th></th>\n",
       "      <th>Accident_Severity</th>\n",
       "      <th>Number_of_Casualties</th>\n",
       "      <th>Number_of_Vehicles</th>\n",
       "      <th>Day_of_Week</th>\n",
       "      <th>Date</th>\n",
       "      <th>Time</th>\n",
       "      <th>Local_Authority_(District)</th>\n",
       "      <th>Local_Authority_(Highway)</th>\n",
       "      <th>Road_Type</th>\n",
       "      <th>Speed_limit</th>\n",
       "      <th>Light_Conditions</th>\n",
       "      <th>Weather_Conditions</th>\n",
       "      <th>Road_Surface_Conditions</th>\n",
       "      <th>Year</th>\n",
       "      <th>Urban_or_Rural_Area</th>\n",
       "      <th>Carriageway_Hazards</th>\n",
       "    </tr>\n",
       "  </thead>\n",
       "  <tbody>\n",
       "    <tr>\n",
       "      <th>0</th>\n",
       "      <td>2</td>\n",
       "      <td>1</td>\n",
       "      <td>1</td>\n",
       "      <td>3</td>\n",
       "      <td>04/01/2005</td>\n",
       "      <td>17:42</td>\n",
       "      <td>12</td>\n",
       "      <td>E09000020</td>\n",
       "      <td>Single carriageway</td>\n",
       "      <td>30</td>\n",
       "      <td>Daylight: Street light present</td>\n",
       "      <td>Raining without high winds</td>\n",
       "      <td>Wet/Damp</td>\n",
       "      <td>2005</td>\n",
       "      <td>1</td>\n",
       "      <td>None</td>\n",
       "    </tr>\n",
       "    <tr>\n",
       "      <th>1</th>\n",
       "      <td>3</td>\n",
       "      <td>1</td>\n",
       "      <td>1</td>\n",
       "      <td>4</td>\n",
       "      <td>05/01/2005</td>\n",
       "      <td>17:36</td>\n",
       "      <td>12</td>\n",
       "      <td>E09000020</td>\n",
       "      <td>Dual carriageway</td>\n",
       "      <td>30</td>\n",
       "      <td>Darkness: Street lights present and lit</td>\n",
       "      <td>Fine without high winds</td>\n",
       "      <td>Dry</td>\n",
       "      <td>2005</td>\n",
       "      <td>1</td>\n",
       "      <td>None</td>\n",
       "    </tr>\n",
       "    <tr>\n",
       "      <th>2</th>\n",
       "      <td>3</td>\n",
       "      <td>1</td>\n",
       "      <td>2</td>\n",
       "      <td>5</td>\n",
       "      <td>06/01/2005</td>\n",
       "      <td>00:15</td>\n",
       "      <td>12</td>\n",
       "      <td>E09000020</td>\n",
       "      <td>Single carriageway</td>\n",
       "      <td>30</td>\n",
       "      <td>Darkness: Street lights present and lit</td>\n",
       "      <td>Fine without high winds</td>\n",
       "      <td>Dry</td>\n",
       "      <td>2005</td>\n",
       "      <td>1</td>\n",
       "      <td>None</td>\n",
       "    </tr>\n",
       "    <tr>\n",
       "      <th>3</th>\n",
       "      <td>3</td>\n",
       "      <td>1</td>\n",
       "      <td>1</td>\n",
       "      <td>6</td>\n",
       "      <td>07/01/2005</td>\n",
       "      <td>10:35</td>\n",
       "      <td>12</td>\n",
       "      <td>E09000020</td>\n",
       "      <td>Single carriageway</td>\n",
       "      <td>30</td>\n",
       "      <td>Daylight: Street light present</td>\n",
       "      <td>Fine without high winds</td>\n",
       "      <td>Dry</td>\n",
       "      <td>2005</td>\n",
       "      <td>1</td>\n",
       "      <td>None</td>\n",
       "    </tr>\n",
       "    <tr>\n",
       "      <th>4</th>\n",
       "      <td>3</td>\n",
       "      <td>1</td>\n",
       "      <td>1</td>\n",
       "      <td>2</td>\n",
       "      <td>10/01/2005</td>\n",
       "      <td>21:13</td>\n",
       "      <td>12</td>\n",
       "      <td>E09000020</td>\n",
       "      <td>Single carriageway</td>\n",
       "      <td>30</td>\n",
       "      <td>Darkness: Street lighting unknown</td>\n",
       "      <td>Fine without high winds</td>\n",
       "      <td>Wet/Damp</td>\n",
       "      <td>2005</td>\n",
       "      <td>1</td>\n",
       "      <td>None</td>\n",
       "    </tr>\n",
       "    <tr>\n",
       "      <th>5</th>\n",
       "      <td>3</td>\n",
       "      <td>1</td>\n",
       "      <td>2</td>\n",
       "      <td>3</td>\n",
       "      <td>11/01/2005</td>\n",
       "      <td>12:40</td>\n",
       "      <td>12</td>\n",
       "      <td>E09000020</td>\n",
       "      <td>Single carriageway</td>\n",
       "      <td>30</td>\n",
       "      <td>Daylight: Street light present</td>\n",
       "      <td>Raining without high winds</td>\n",
       "      <td>Wet/Damp</td>\n",
       "      <td>2005</td>\n",
       "      <td>1</td>\n",
       "      <td>None</td>\n",
       "    </tr>\n",
       "    <tr>\n",
       "      <th>6</th>\n",
       "      <td>3</td>\n",
       "      <td>1</td>\n",
       "      <td>2</td>\n",
       "      <td>5</td>\n",
       "      <td>13/01/2005</td>\n",
       "      <td>20:40</td>\n",
       "      <td>12</td>\n",
       "      <td>E09000020</td>\n",
       "      <td>Single carriageway</td>\n",
       "      <td>30</td>\n",
       "      <td>Darkness: Street lights present and lit</td>\n",
       "      <td>Fine without high winds</td>\n",
       "      <td>Dry</td>\n",
       "      <td>2005</td>\n",
       "      <td>1</td>\n",
       "      <td>None</td>\n",
       "    </tr>\n",
       "    <tr>\n",
       "      <th>7</th>\n",
       "      <td>3</td>\n",
       "      <td>2</td>\n",
       "      <td>1</td>\n",
       "      <td>6</td>\n",
       "      <td>14/01/2005</td>\n",
       "      <td>17:35</td>\n",
       "      <td>12</td>\n",
       "      <td>E09000020</td>\n",
       "      <td>Dual carriageway</td>\n",
       "      <td>30</td>\n",
       "      <td>Daylight: Street light present</td>\n",
       "      <td>Fine without high winds</td>\n",
       "      <td>Dry</td>\n",
       "      <td>2005</td>\n",
       "      <td>1</td>\n",
       "      <td>None</td>\n",
       "    </tr>\n",
       "    <tr>\n",
       "      <th>8</th>\n",
       "      <td>3</td>\n",
       "      <td>2</td>\n",
       "      <td>2</td>\n",
       "      <td>7</td>\n",
       "      <td>15/01/2005</td>\n",
       "      <td>22:43</td>\n",
       "      <td>12</td>\n",
       "      <td>E09000020</td>\n",
       "      <td>Single carriageway</td>\n",
       "      <td>30</td>\n",
       "      <td>Darkness: Street lights present and lit</td>\n",
       "      <td>Fine without high winds</td>\n",
       "      <td>Dry</td>\n",
       "      <td>2005</td>\n",
       "      <td>1</td>\n",
       "      <td>None</td>\n",
       "    </tr>\n",
       "    <tr>\n",
       "      <th>9</th>\n",
       "      <td>3</td>\n",
       "      <td>5</td>\n",
       "      <td>2</td>\n",
       "      <td>7</td>\n",
       "      <td>15/01/2005</td>\n",
       "      <td>16:00</td>\n",
       "      <td>12</td>\n",
       "      <td>E09000020</td>\n",
       "      <td>Single carriageway</td>\n",
       "      <td>30</td>\n",
       "      <td>Daylight: Street light present</td>\n",
       "      <td>Fine without high winds</td>\n",
       "      <td>Dry</td>\n",
       "      <td>2005</td>\n",
       "      <td>1</td>\n",
       "      <td>None</td>\n",
       "    </tr>\n",
       "  </tbody>\n",
       "</table>\n",
       "</div>"
      ],
      "text/plain": [
       "   Accident_Severity  Number_of_Casualties  Number_of_Vehicles  Day_of_Week  \\\n",
       "0                  2                     1                   1            3   \n",
       "1                  3                     1                   1            4   \n",
       "2                  3                     1                   2            5   \n",
       "3                  3                     1                   1            6   \n",
       "4                  3                     1                   1            2   \n",
       "5                  3                     1                   2            3   \n",
       "6                  3                     1                   2            5   \n",
       "7                  3                     2                   1            6   \n",
       "8                  3                     2                   2            7   \n",
       "9                  3                     5                   2            7   \n",
       "\n",
       "         Date   Time  Local_Authority_(District) Local_Authority_(Highway)  \\\n",
       "0  04/01/2005  17:42                          12                 E09000020   \n",
       "1  05/01/2005  17:36                          12                 E09000020   \n",
       "2  06/01/2005  00:15                          12                 E09000020   \n",
       "3  07/01/2005  10:35                          12                 E09000020   \n",
       "4  10/01/2005  21:13                          12                 E09000020   \n",
       "5  11/01/2005  12:40                          12                 E09000020   \n",
       "6  13/01/2005  20:40                          12                 E09000020   \n",
       "7  14/01/2005  17:35                          12                 E09000020   \n",
       "8  15/01/2005  22:43                          12                 E09000020   \n",
       "9  15/01/2005  16:00                          12                 E09000020   \n",
       "\n",
       "            Road_Type  Speed_limit                         Light_Conditions  \\\n",
       "0  Single carriageway           30           Daylight: Street light present   \n",
       "1    Dual carriageway           30  Darkness: Street lights present and lit   \n",
       "2  Single carriageway           30  Darkness: Street lights present and lit   \n",
       "3  Single carriageway           30           Daylight: Street light present   \n",
       "4  Single carriageway           30        Darkness: Street lighting unknown   \n",
       "5  Single carriageway           30           Daylight: Street light present   \n",
       "6  Single carriageway           30  Darkness: Street lights present and lit   \n",
       "7    Dual carriageway           30           Daylight: Street light present   \n",
       "8  Single carriageway           30  Darkness: Street lights present and lit   \n",
       "9  Single carriageway           30           Daylight: Street light present   \n",
       "\n",
       "           Weather_Conditions Road_Surface_Conditions  Year  \\\n",
       "0  Raining without high winds                Wet/Damp  2005   \n",
       "1     Fine without high winds                     Dry  2005   \n",
       "2     Fine without high winds                     Dry  2005   \n",
       "3     Fine without high winds                     Dry  2005   \n",
       "4     Fine without high winds                Wet/Damp  2005   \n",
       "5  Raining without high winds                Wet/Damp  2005   \n",
       "6     Fine without high winds                     Dry  2005   \n",
       "7     Fine without high winds                     Dry  2005   \n",
       "8     Fine without high winds                     Dry  2005   \n",
       "9     Fine without high winds                     Dry  2005   \n",
       "\n",
       "   Urban_or_Rural_Area Carriageway_Hazards  \n",
       "0                    1                None  \n",
       "1                    1                None  \n",
       "2                    1                None  \n",
       "3                    1                None  \n",
       "4                    1                None  \n",
       "5                    1                None  \n",
       "6                    1                None  \n",
       "7                    1                None  \n",
       "8                    1                None  \n",
       "9                    1                None  "
      ]
     },
     "execution_count": 7,
     "metadata": {},
     "output_type": "execute_result"
    }
   ],
   "source": [
    "alldata.head(10)"
   ]
  },
  {
   "cell_type": "code",
   "execution_count": 8,
   "id": "2fbde9a2",
   "metadata": {},
   "outputs": [],
   "source": [
    "alldata= alldata.dropna()"
   ]
  },
  {
   "cell_type": "code",
   "execution_count": 9,
   "id": "8d69d2dc",
   "metadata": {},
   "outputs": [
    {
     "data": {
      "text/plain": [
       "Accident_Severity             0\n",
       "Number_of_Casualties          0\n",
       "Number_of_Vehicles            0\n",
       "Day_of_Week                   0\n",
       "Date                          0\n",
       "Time                          0\n",
       "Local_Authority_(District)    0\n",
       "Local_Authority_(Highway)     0\n",
       "Road_Type                     0\n",
       "Speed_limit                   0\n",
       "Light_Conditions              0\n",
       "Weather_Conditions            0\n",
       "Road_Surface_Conditions       0\n",
       "Year                          0\n",
       "Urban_or_Rural_Area           0\n",
       "Carriageway_Hazards           0\n",
       "dtype: int64"
      ]
     },
     "execution_count": 9,
     "metadata": {},
     "output_type": "execute_result"
    }
   ],
   "source": [
    "alldata.isnull().sum()"
   ]
  },
  {
   "cell_type": "markdown",
   "id": "6b1890ba",
   "metadata": {},
   "source": [
    "# Number of Accidents by Year"
   ]
  },
  {
   "cell_type": "code",
   "execution_count": 10,
   "id": "89c5af47",
   "metadata": {},
   "outputs": [],
   "source": [
    "alldata.Year = alldata.Year.astype(str)\n",
    "yila_gore_kaza_sayisi = alldata.groupby(\"Year\")"
   ]
  },
  {
   "cell_type": "code",
   "execution_count": 11,
   "id": "7aa15413",
   "metadata": {},
   "outputs": [],
   "source": [
    "toplam_yila_gore_kaza_sayisi=pd.DataFrame(yila_gore_kaza_sayisi.size().sort_values(ascending=False),columns=[\"Number\"])"
   ]
  },
  {
   "cell_type": "code",
   "execution_count": 12,
   "id": "5b36dab2",
   "metadata": {},
   "outputs": [
    {
     "data": {
      "text/html": [
       "<div>\n",
       "<style scoped>\n",
       "    .dataframe tbody tr th:only-of-type {\n",
       "        vertical-align: middle;\n",
       "    }\n",
       "\n",
       "    .dataframe tbody tr th {\n",
       "        vertical-align: top;\n",
       "    }\n",
       "\n",
       "    .dataframe thead th {\n",
       "        text-align: right;\n",
       "    }\n",
       "</style>\n",
       "<table border=\"1\" class=\"dataframe\">\n",
       "  <thead>\n",
       "    <tr style=\"text-align: right;\">\n",
       "      <th></th>\n",
       "      <th>Number</th>\n",
       "    </tr>\n",
       "    <tr>\n",
       "      <th>Year</th>\n",
       "      <th></th>\n",
       "    </tr>\n",
       "  </thead>\n",
       "  <tbody>\n",
       "    <tr>\n",
       "      <th>2005</th>\n",
       "      <td>198461</td>\n",
       "    </tr>\n",
       "    <tr>\n",
       "      <th>2006</th>\n",
       "      <td>188911</td>\n",
       "    </tr>\n",
       "    <tr>\n",
       "      <th>2007</th>\n",
       "      <td>181881</td>\n",
       "    </tr>\n",
       "    <tr>\n",
       "      <th>2012</th>\n",
       "      <td>179436</td>\n",
       "    </tr>\n",
       "    <tr>\n",
       "      <th>2009</th>\n",
       "      <td>163331</td>\n",
       "    </tr>\n",
       "    <tr>\n",
       "      <th>2010</th>\n",
       "      <td>154185</td>\n",
       "    </tr>\n",
       "    <tr>\n",
       "      <th>2011</th>\n",
       "      <td>151241</td>\n",
       "    </tr>\n",
       "    <tr>\n",
       "      <th>2014</th>\n",
       "      <td>146099</td>\n",
       "    </tr>\n",
       "    <tr>\n",
       "      <th>2013</th>\n",
       "      <td>138392</td>\n",
       "    </tr>\n",
       "  </tbody>\n",
       "</table>\n",
       "</div>"
      ],
      "text/plain": [
       "      Number\n",
       "Year        \n",
       "2005  198461\n",
       "2006  188911\n",
       "2007  181881\n",
       "2012  179436\n",
       "2009  163331\n",
       "2010  154185\n",
       "2011  151241\n",
       "2014  146099\n",
       "2013  138392"
      ]
     },
     "execution_count": 12,
     "metadata": {},
     "output_type": "execute_result"
    }
   ],
   "source": [
    "toplam_yila_gore_kaza_sayisi"
   ]
  },
  {
   "cell_type": "code",
   "execution_count": 13,
   "id": "adfbf777",
   "metadata": {},
   "outputs": [
    {
     "data": {
      "text/plain": [
       "Text(0.5, 1.0, 'Yıllara göre toplam kaza sayısı')"
      ]
     },
     "execution_count": 13,
     "metadata": {},
     "output_type": "execute_result"
    },
    {
     "data": {
      "image/png": "[encoded data removed]",
      "text/plain": [
       "<Figure size 432x288 with 1 Axes>"
      ]
     },
     "metadata": {
      "needs_background": "light"
     },
     "output_type": "display_data"
    }
   ],
   "source": [
    "sns.barplot(y = toplam_yila_gore_kaza_sayisi[\"Number\"] , x = toplam_yila_gore_kaza_sayisi.index,palette = \"coolwarm\")\n",
    "plt.title(\"Yıllara göre toplam kaza sayısı\")"
   ]
  },
  {
   "cell_type": "markdown",
   "id": "61f55765",
   "metadata": {},
   "source": [
    "# Number of Accidents by Factor\n"
   ]
  },
  {
   "cell_type": "code",
   "execution_count": 14,
   "id": "f01a4ae8",
   "metadata": {},
   "outputs": [
    {
     "data": {
      "image/png": "[encoded data removed]",
      "text/plain": [
       "<Figure size 432x288 with 1 Axes>"
      ]
     },
     "metadata": {
      "needs_background": "light"
     },
     "output_type": "display_data"
    }
   ],
   "source": [
    "week = alldata[\"Day_of_Week\"].value_counts()\n",
    "week\n",
    "weeks = alldata[\"Day_of_Week\"].unique()\n",
    "weekvalue = week.values\n",
    "\n",
    "plt.barh(weeks,weekvalue,color=\"aquamarine\")\n",
    "plt.title(\"Number of Traffic Acciddetns By Weekdays\")\n",
    "plt.xlabel(\"Number of Accidents\")\n",
    "plt.ylabel(\"Weekdays\")\n",
    "plt.show()"
   ]
  },
  {
   "cell_type": "code",
   "execution_count": 15,
   "id": "a94408e9",
   "metadata": {},
   "outputs": [
    {
     "data": {
      "image/png": "[encoded data removed]",
      "text/plain": [
       "<Figure size 1440x576 with 2 Axes>"
      ]
     },
     "metadata": {
      "needs_background": "light"
     },
     "output_type": "display_data"
    }
   ],
   "source": [
    "arac_insan_sayi = [\"Number_of_Vehicles\", \"Number_of_Casualties\"]\n",
    "\n",
    "plt.figure(figsize=(20,8))\n",
    "plt.subplot(1, 2, 1)\n",
    "sns.countplot(x=alldata.Number_of_Vehicles, hue=\"Road_Type\",\n",
    "            data=alldata)\n",
    "plt.grid(False)\n",
    "plt.xticks(rotation=60)\n",
    "\n",
    "plt.subplot(1, 2, 2)\n",
    "sns.countplot(x=alldata.Number_of_Casualties, hue=\"Road_Type\",\n",
    "            data=alldata)\n",
    "plt.grid(False)\n",
    "plt.xticks(rotation=60)\n",
    "\n",
    "\n",
    "plt.show()"
   ]
  },
  {
   "cell_type": "code",
   "execution_count": 16,
   "id": "a1274a2b",
   "metadata": {},
   "outputs": [
    {
     "data": {
      "text/plain": [
       "Text(0, 0.5, 'Number Of Accidents')"
      ]
     },
     "execution_count": 16,
     "metadata": {},
     "output_type": "execute_result"
    },
    {
     "data": {
      "image/png": "[encoded data removed]",
      "text/plain": [
       "<Figure size 1584x720 with 1 Axes>"
      ]
     },
     "metadata": {
      "needs_background": "light"
     },
     "output_type": "display_data"
    }
   ],
   "source": [
    "hours = pd.DataFrame(alldata[\"Time\"].astype(\"datetime64\"))\n",
    "hours = pd.DataFrame(hours.Time.dt.strftime('%H').sort_values(),columns=[\"Time\"])\n",
    "\n",
    "plt.figure(figsize=(22,10))\n",
    "sns.countplot(data=hours,x=\"Time\")\n",
    "plt.title(\"Number Of Accidents by Hours\")\n",
    "plt.xlabel(\"Hours\")\n",
    "plt.ylabel(\"Number Of Accidents\")"
   ]
  },
  {
   "cell_type": "markdown",
   "id": "9569cf27",
   "metadata": {},
   "source": [
    "# Accident Severity by Road Type"
   ]
  },
  {
   "cell_type": "code",
   "execution_count": 17,
   "id": "744b78a2",
   "metadata": {},
   "outputs": [],
   "source": [
    "rt = alldata[\"Road_Type\"].value_counts()\n",
    "\n",
    "rts = alldata[\"Road_Type\"].unique()\n",
    "count_rt=rt.values\n"
   ]
  },
  {
   "cell_type": "code",
   "execution_count": 18,
   "id": "85d9688c",
   "metadata": {},
   "outputs": [
    {
     "data": {
      "text/plain": [
       "Text(0.5, 1.0, 'Road Type effects on Accidents')"
      ]
     },
     "execution_count": 18,
     "metadata": {},
     "output_type": "execute_result"
    },
    {
     "data": {
      "image/png": "[encoded data removed]",
      "text/plain": [
       "<Figure size 2016x1296 with 1 Axes>"
      ]
     },
     "metadata": {},
     "output_type": "display_data"
    }
   ],
   "source": [
    "plt.figure(figsize=(28,18))\n",
    "plt.subplot(1,2,1)\n",
    "plt.pie(count_rt, labels=rts,autopct='%1.1f%%',textprops={\"size\": \"small\"}, wedgeprops = { 'linewidth' : 2, 'edgecolor' : 'white' } )\n",
    "plt.legend(loc =\"upper right\")\n",
    "plt.title(\"Road Type effects on Accidents\")"
   ]
  },
  {
   "cell_type": "code",
   "execution_count": 19,
   "id": "00eb6027",
   "metadata": {},
   "outputs": [
    {
     "data": {
      "text/plain": [
       "[Text(0.5, 1.0, 'Road Type effects on Accident Severity')]"
      ]
     },
     "execution_count": 19,
     "metadata": {},
     "output_type": "execute_result"
    },
    {
     "data": {
      "image/png": "[encoded data removed]",
      "text/plain": [
       "<Figure size 432x288 with 1 Axes>"
      ]
     },
     "metadata": {
      "needs_background": "light"
     },
     "output_type": "display_data"
    }
   ],
   "source": [
    "sns.barplot(y =alldata[\"Accident_Severity\"], x = alldata[\"Road_Type\"],palette = \"Spectral\").set(title='Road Type effects on Accident Severity')"
   ]
  },
  {
   "cell_type": "markdown",
   "id": "680080cb",
   "metadata": {},
   "source": [
    "# The Impact  of Weather Events on Roads"
   ]
  },
  {
   "cell_type": "code",
   "execution_count": 20,
   "id": "65bd9af2",
   "metadata": {},
   "outputs": [],
   "source": [
    "road_vc = alldata[\"Road_Surface_Conditions\"].value_counts()\n",
    "road_vc_uniq = alldata[\"Road_Surface_Conditions\"].unique()\n",
    "road_num_value = road_vc.values"
   ]
  },
  {
   "cell_type": "code",
   "execution_count": 21,
   "id": "93048f63",
   "metadata": {},
   "outputs": [
    {
     "data": {
      "image/png": "[encoded data removed]",
      "text/plain": [
       "<Figure size 1440x1440 with 1 Axes>"
      ]
     },
     "metadata": {},
     "output_type": "display_data"
    }
   ],
   "source": [
    "plt.figure(figsize=(20,20))\n",
    "plt.subplot(1,2,1)\n",
    "colors = []\n",
    "plt.pie(road_num_value, labels=road_vc_uniq ,\n",
    "        autopct='%1.2f%%',\n",
    "        textprops={\"size\": \"large\"} ,\n",
    "        colors=sns.color_palette('Set2'),\n",
    "        pctdistance=0.80,\n",
    "        explode=[0.05, 0.05, 0.05, 0.05, 0.05])\n",
    "\n",
    "plt.legend(loc =\"upper right\")\n",
    "plt.title(\"Road Type effects on Accidents\")\n",
    "\n",
    "hole = plt.Circle((0, 0), 0.45, facecolor='white')\n",
    "plt.gcf().gca().add_artist(hole)\n",
    "plt.show()"
   ]
  },
  {
   "cell_type": "code",
   "execution_count": 22,
   "id": "45803057",
   "metadata": {},
   "outputs": [
    {
     "data": {
      "text/html": [
       "<div>\n",
       "<style scoped>\n",
       "    .dataframe tbody tr th:only-of-type {\n",
       "        vertical-align: middle;\n",
       "    }\n",
       "\n",
       "    .dataframe tbody tr th {\n",
       "        vertical-align: top;\n",
       "    }\n",
       "\n",
       "    .dataframe thead th {\n",
       "        text-align: right;\n",
       "    }\n",
       "</style>\n",
       "<table border=\"1\" class=\"dataframe\">\n",
       "  <thead>\n",
       "    <tr style=\"text-align: right;\">\n",
       "      <th></th>\n",
       "      <th>Accident_Severity</th>\n",
       "      <th>Number_of_Casualties</th>\n",
       "      <th>Number_of_Vehicles</th>\n",
       "      <th>Day_of_Week</th>\n",
       "      <th>Date</th>\n",
       "      <th>Time</th>\n",
       "      <th>Local_Authority_(District)</th>\n",
       "      <th>Local_Authority_(Highway)</th>\n",
       "      <th>Road_Type</th>\n",
       "      <th>Speed_limit</th>\n",
       "      <th>Light_Conditions</th>\n",
       "      <th>Weather_Conditions</th>\n",
       "      <th>Road_Surface_Conditions</th>\n",
       "      <th>Year</th>\n",
       "      <th>Urban_or_Rural_Area</th>\n",
       "      <th>Carriageway_Hazards</th>\n",
       "    </tr>\n",
       "  </thead>\n",
       "  <tbody>\n",
       "    <tr>\n",
       "      <th>0</th>\n",
       "      <td>2</td>\n",
       "      <td>1</td>\n",
       "      <td>1</td>\n",
       "      <td>3</td>\n",
       "      <td>04/01/2005</td>\n",
       "      <td>17:42</td>\n",
       "      <td>12</td>\n",
       "      <td>E09000020</td>\n",
       "      <td>Single carriageway</td>\n",
       "      <td>30</td>\n",
       "      <td>Daylight: Street light present</td>\n",
       "      <td>Raining without high winds</td>\n",
       "      <td>Wet/Damp</td>\n",
       "      <td>2005</td>\n",
       "      <td>1</td>\n",
       "      <td>None</td>\n",
       "    </tr>\n",
       "    <tr>\n",
       "      <th>1</th>\n",
       "      <td>3</td>\n",
       "      <td>1</td>\n",
       "      <td>1</td>\n",
       "      <td>4</td>\n",
       "      <td>05/01/2005</td>\n",
       "      <td>17:36</td>\n",
       "      <td>12</td>\n",
       "      <td>E09000020</td>\n",
       "      <td>Dual carriageway</td>\n",
       "      <td>30</td>\n",
       "      <td>Darkness: Street lights present and lit</td>\n",
       "      <td>Fine without high winds</td>\n",
       "      <td>Dry</td>\n",
       "      <td>2005</td>\n",
       "      <td>1</td>\n",
       "      <td>None</td>\n",
       "    </tr>\n",
       "    <tr>\n",
       "      <th>2</th>\n",
       "      <td>3</td>\n",
       "      <td>1</td>\n",
       "      <td>2</td>\n",
       "      <td>5</td>\n",
       "      <td>06/01/2005</td>\n",
       "      <td>00:15</td>\n",
       "      <td>12</td>\n",
       "      <td>E09000020</td>\n",
       "      <td>Single carriageway</td>\n",
       "      <td>30</td>\n",
       "      <td>Darkness: Street lights present and lit</td>\n",
       "      <td>Fine without high winds</td>\n",
       "      <td>Dry</td>\n",
       "      <td>2005</td>\n",
       "      <td>1</td>\n",
       "      <td>None</td>\n",
       "    </tr>\n",
       "    <tr>\n",
       "      <th>3</th>\n",
       "      <td>3</td>\n",
       "      <td>1</td>\n",
       "      <td>1</td>\n",
       "      <td>6</td>\n",
       "      <td>07/01/2005</td>\n",
       "      <td>10:35</td>\n",
       "      <td>12</td>\n",
       "      <td>E09000020</td>\n",
       "      <td>Single carriageway</td>\n",
       "      <td>30</td>\n",
       "      <td>Daylight: Street light present</td>\n",
       "      <td>Fine without high winds</td>\n",
       "      <td>Dry</td>\n",
       "      <td>2005</td>\n",
       "      <td>1</td>\n",
       "      <td>None</td>\n",
       "    </tr>\n",
       "    <tr>\n",
       "      <th>4</th>\n",
       "      <td>3</td>\n",
       "      <td>1</td>\n",
       "      <td>1</td>\n",
       "      <td>2</td>\n",
       "      <td>10/01/2005</td>\n",
       "      <td>21:13</td>\n",
       "      <td>12</td>\n",
       "      <td>E09000020</td>\n",
       "      <td>Single carriageway</td>\n",
       "      <td>30</td>\n",
       "      <td>Darkness: Street lighting unknown</td>\n",
       "      <td>Fine without high winds</td>\n",
       "      <td>Wet/Damp</td>\n",
       "      <td>2005</td>\n",
       "      <td>1</td>\n",
       "      <td>None</td>\n",
       "    </tr>\n",
       "    <tr>\n",
       "      <th>...</th>\n",
       "      <td>...</td>\n",
       "      <td>...</td>\n",
       "      <td>...</td>\n",
       "      <td>...</td>\n",
       "      <td>...</td>\n",
       "      <td>...</td>\n",
       "      <td>...</td>\n",
       "      <td>...</td>\n",
       "      <td>...</td>\n",
       "      <td>...</td>\n",
       "      <td>...</td>\n",
       "      <td>...</td>\n",
       "      <td>...</td>\n",
       "      <td>...</td>\n",
       "      <td>...</td>\n",
       "      <td>...</td>\n",
       "    </tr>\n",
       "    <tr>\n",
       "      <th>464692</th>\n",
       "      <td>2</td>\n",
       "      <td>1</td>\n",
       "      <td>2</td>\n",
       "      <td>1</td>\n",
       "      <td>07/12/2014</td>\n",
       "      <td>22:20</td>\n",
       "      <td>917</td>\n",
       "      <td>S12000006</td>\n",
       "      <td>Dual carriageway</td>\n",
       "      <td>70</td>\n",
       "      <td>Darkeness: No street lighting</td>\n",
       "      <td>Snowing without high winds</td>\n",
       "      <td>Snow</td>\n",
       "      <td>2014</td>\n",
       "      <td>2</td>\n",
       "      <td>None</td>\n",
       "    </tr>\n",
       "    <tr>\n",
       "      <th>464693</th>\n",
       "      <td>3</td>\n",
       "      <td>2</td>\n",
       "      <td>2</td>\n",
       "      <td>5</td>\n",
       "      <td>11/12/2014</td>\n",
       "      <td>06:40</td>\n",
       "      <td>917</td>\n",
       "      <td>S12000006</td>\n",
       "      <td>Dual carriageway</td>\n",
       "      <td>70</td>\n",
       "      <td>Darkeness: No street lighting</td>\n",
       "      <td>Fine without high winds</td>\n",
       "      <td>Snow</td>\n",
       "      <td>2014</td>\n",
       "      <td>2</td>\n",
       "      <td>None</td>\n",
       "    </tr>\n",
       "    <tr>\n",
       "      <th>464694</th>\n",
       "      <td>3</td>\n",
       "      <td>1</td>\n",
       "      <td>1</td>\n",
       "      <td>3</td>\n",
       "      <td>09/12/2014</td>\n",
       "      <td>02:00</td>\n",
       "      <td>917</td>\n",
       "      <td>S12000006</td>\n",
       "      <td>Single carriageway</td>\n",
       "      <td>40</td>\n",
       "      <td>Darkness: Street lights present and lit</td>\n",
       "      <td>Fine without high winds</td>\n",
       "      <td>Frost/Ice</td>\n",
       "      <td>2014</td>\n",
       "      <td>2</td>\n",
       "      <td>None</td>\n",
       "    </tr>\n",
       "    <tr>\n",
       "      <th>464695</th>\n",
       "      <td>2</td>\n",
       "      <td>2</td>\n",
       "      <td>3</td>\n",
       "      <td>4</td>\n",
       "      <td>17/12/2014</td>\n",
       "      <td>06:55</td>\n",
       "      <td>917</td>\n",
       "      <td>S12000006</td>\n",
       "      <td>Single carriageway</td>\n",
       "      <td>60</td>\n",
       "      <td>Darkeness: No street lighting</td>\n",
       "      <td>Raining without high winds</td>\n",
       "      <td>Wet/Damp</td>\n",
       "      <td>2014</td>\n",
       "      <td>2</td>\n",
       "      <td>None</td>\n",
       "    </tr>\n",
       "    <tr>\n",
       "      <th>464696</th>\n",
       "      <td>3</td>\n",
       "      <td>2</td>\n",
       "      <td>2</td>\n",
       "      <td>4</td>\n",
       "      <td>24/12/2014</td>\n",
       "      <td>15:00</td>\n",
       "      <td>917</td>\n",
       "      <td>S12000006</td>\n",
       "      <td>Single carriageway</td>\n",
       "      <td>60</td>\n",
       "      <td>Daylight: Street light present</td>\n",
       "      <td>Fine without high winds</td>\n",
       "      <td>Wet/Damp</td>\n",
       "      <td>2014</td>\n",
       "      <td>2</td>\n",
       "      <td>None</td>\n",
       "    </tr>\n",
       "  </tbody>\n",
       "</table>\n",
       "<p>1501937 rows × 16 columns</p>\n",
       "</div>"
      ],
      "text/plain": [
       "        Accident_Severity  Number_of_Casualties  Number_of_Vehicles  \\\n",
       "0                       2                     1                   1   \n",
       "1                       3                     1                   1   \n",
       "2                       3                     1                   2   \n",
       "3                       3                     1                   1   \n",
       "4                       3                     1                   1   \n",
       "...                   ...                   ...                 ...   \n",
       "464692                  2                     1                   2   \n",
       "464693                  3                     2                   2   \n",
       "464694                  3                     1                   1   \n",
       "464695                  2                     2                   3   \n",
       "464696                  3                     2                   2   \n",
       "\n",
       "        Day_of_Week        Date   Time  Local_Authority_(District)  \\\n",
       "0                 3  04/01/2005  17:42                          12   \n",
       "1                 4  05/01/2005  17:36                          12   \n",
       "2                 5  06/01/2005  00:15                          12   \n",
       "3                 6  07/01/2005  10:35                          12   \n",
       "4                 2  10/01/2005  21:13                          12   \n",
       "...             ...         ...    ...                         ...   \n",
       "464692            1  07/12/2014  22:20                         917   \n",
       "464693            5  11/12/2014  06:40                         917   \n",
       "464694            3  09/12/2014  02:00                         917   \n",
       "464695            4  17/12/2014  06:55                         917   \n",
       "464696            4  24/12/2014  15:00                         917   \n",
       "\n",
       "       Local_Authority_(Highway)           Road_Type  Speed_limit  \\\n",
       "0                      E09000020  Single carriageway           30   \n",
       "1                      E09000020    Dual carriageway           30   \n",
       "2                      E09000020  Single carriageway           30   \n",
       "3                      E09000020  Single carriageway           30   \n",
       "4                      E09000020  Single carriageway           30   \n",
       "...                          ...                 ...          ...   \n",
       "464692                 S12000006    Dual carriageway           70   \n",
       "464693                 S12000006    Dual carriageway           70   \n",
       "464694                 S12000006  Single carriageway           40   \n",
       "464695                 S12000006  Single carriageway           60   \n",
       "464696                 S12000006  Single carriageway           60   \n",
       "\n",
       "                               Light_Conditions          Weather_Conditions  \\\n",
       "0                Daylight: Street light present  Raining without high winds   \n",
       "1       Darkness: Street lights present and lit     Fine without high winds   \n",
       "2       Darkness: Street lights present and lit     Fine without high winds   \n",
       "3                Daylight: Street light present     Fine without high winds   \n",
       "4             Darkness: Street lighting unknown     Fine without high winds   \n",
       "...                                         ...                         ...   \n",
       "464692            Darkeness: No street lighting  Snowing without high winds   \n",
       "464693            Darkeness: No street lighting     Fine without high winds   \n",
       "464694  Darkness: Street lights present and lit     Fine without high winds   \n",
       "464695            Darkeness: No street lighting  Raining without high winds   \n",
       "464696           Daylight: Street light present     Fine without high winds   \n",
       "\n",
       "       Road_Surface_Conditions  Year  Urban_or_Rural_Area Carriageway_Hazards  \n",
       "0                     Wet/Damp  2005                    1                None  \n",
       "1                          Dry  2005                    1                None  \n",
       "2                          Dry  2005                    1                None  \n",
       "3                          Dry  2005                    1                None  \n",
       "4                     Wet/Damp  2005                    1                None  \n",
       "...                        ...   ...                  ...                 ...  \n",
       "464692                    Snow  2014                    2                None  \n",
       "464693                    Snow  2014                    2                None  \n",
       "464694               Frost/Ice  2014                    2                None  \n",
       "464695                Wet/Damp  2014                    2                None  \n",
       "464696                Wet/Damp  2014                    2                None  \n",
       "\n",
       "[1501937 rows x 16 columns]"
      ]
     },
     "execution_count": 22,
     "metadata": {},
     "output_type": "execute_result"
    }
   ],
   "source": [
    "alldata"
   ]
  },
  {
   "cell_type": "markdown",
   "id": "a5306aea",
   "metadata": {},
   "source": [
    "# What is the Difference Between Urban and Rural Area Traffic Accidents Risks?\n"
   ]
  },
  {
   "cell_type": "code",
   "execution_count": 23,
   "id": "59dabb2b",
   "metadata": {},
   "outputs": [
    {
     "data": {
      "image/png": "[encoded data removed]",
      "text/plain": [
       "<Figure size 432x288 with 1 Axes>"
      ]
     },
     "metadata": {},
     "output_type": "display_data"
    }
   ],
   "source": [
    "alldata[\"Urban_or_Rural_Area\"].value_counts()\n",
    "plt.style.use(\"seaborn-darkgrid\")\n",
    "\n",
    "sns.countplot(x=\"Urban_or_Rural_Area\",data=alldata,palette = \"husl\")\n",
    "plt.ylabel(\"Number of Accidents\",weight=\"bold\")\n",
    "plt.xlabel(\"Urban(1) or Rural(2) Area\",weight=\"bold\",color = \"black\")\n",
    "plt.title(\"Urban Area vs Rural Area\",weight=\"bold\" , color = \"purple\")\n",
    "\n",
    "plt.show() "
   ]
  },
  {
   "cell_type": "markdown",
   "id": "d83c0e25",
   "metadata": {},
   "source": [
    "# Corelation Between Variables"
   ]
  },
  {
   "cell_type": "code",
   "execution_count": null,
   "id": "5b2e8734",
   "metadata": {},
   "outputs": [],
   "source": []
  },
  {
   "cell_type": "code",
   "execution_count": 24,
   "id": "3b9e8738",
   "metadata": {},
   "outputs": [
    {
     "data": {
      "text/plain": [
       "<AxesSubplot:>"
      ]
     },
     "execution_count": 24,
     "metadata": {},
     "output_type": "execute_result"
    },
    {
     "data": {
      "image/png": "[encoded data removed]",
      "text/plain": [
       "<Figure size 1440x648 with 2 Axes>"
      ]
     },
     "metadata": {},
     "output_type": "display_data"
    }
   ],
   "source": [
    "corr =  alldata.corr()\n",
    "plt.subplots(figsize=(20,9))\n",
    "sns.heatmap(corr)"
   ]
  },
  {
   "cell_type": "code",
   "execution_count": 25,
   "id": "db0eed20",
   "metadata": {},
   "outputs": [],
   "source": [
    "alldata.drop([\"Date\"], axis=1, inplace=True)"
   ]
  },
  {
   "cell_type": "code",
   "execution_count": 26,
   "id": "8b89a7d0",
   "metadata": {},
   "outputs": [],
   "source": [
    "alldata.drop([\"Time\"], axis=1, inplace=True)"
   ]
  },
  {
   "cell_type": "code",
   "execution_count": 27,
   "id": "44f50250",
   "metadata": {},
   "outputs": [],
   "source": [
    "alldata.drop([\"Carriageway_Hazards\"], axis=1, inplace=True)"
   ]
  },
  {
   "cell_type": "code",
   "execution_count": 28,
   "id": "cd61d8db",
   "metadata": {},
   "outputs": [],
   "source": [
    "alldata.drop([\"Speed_limit\"], axis=1, inplace=True)"
   ]
  },
  {
   "cell_type": "code",
   "execution_count": 29,
   "id": "604ba3c4",
   "metadata": {},
   "outputs": [],
   "source": [
    "alldata.drop([\"Local_Authority_(District)\"], axis=1, inplace=True)"
   ]
  },
  {
   "cell_type": "code",
   "execution_count": 30,
   "id": "55bb6be8",
   "metadata": {},
   "outputs": [],
   "source": [
    "alldata.drop([\"Local_Authority_(Highway)\"], axis=1, inplace=True)"
   ]
  },
  {
   "cell_type": "markdown",
   "id": "80fdf032",
   "metadata": {},
   "source": [
    "# Model"
   ]
  },
  {
   "cell_type": "markdown",
   "id": "710c0423",
   "metadata": {},
   "source": [
    "### CLEARING REPETITIVE VALUES"
   ]
  },
  {
   "cell_type": "code",
   "execution_count": 31,
   "id": "7354f42c",
   "metadata": {},
   "outputs": [
    {
     "data": {
      "text/plain": [
       "array(['Single carriageway', 'Dual carriageway', 'One way street',\n",
       "       'Roundabout', 'Slip road', 'Unknown'], dtype=object)"
      ]
     },
     "execution_count": 31,
     "metadata": {},
     "output_type": "execute_result"
    }
   ],
   "source": [
    "alldata[\"Road_Type\"].unique()"
   ]
  },
  {
   "cell_type": "code",
   "execution_count": 32,
   "id": "7ab4056e",
   "metadata": {},
   "outputs": [
    {
     "data": {
      "text/plain": [
       "array(['Raining without high winds', 'Fine without high winds', 'Unknown',\n",
       "       'Snowing without high winds', 'Other', 'Fine with high winds',\n",
       "       'Raining with high winds', 'Fog or mist',\n",
       "       'Snowing with high winds'], dtype=object)"
      ]
     },
     "execution_count": 32,
     "metadata": {},
     "output_type": "execute_result"
    }
   ],
   "source": [
    "alldata[\"Weather_Conditions\"].unique()"
   ]
  },
  {
   "cell_type": "code",
   "execution_count": 33,
   "id": "1a3d2c03",
   "metadata": {},
   "outputs": [
    {
     "data": {
      "text/plain": [
       "array(['Daylight: Street light present',\n",
       "       'Darkness: Street lights present and lit',\n",
       "       'Darkness: Street lighting unknown',\n",
       "       'Darkness: Street lights present but unlit',\n",
       "       'Darkeness: No street lighting'], dtype=object)"
      ]
     },
     "execution_count": 33,
     "metadata": {},
     "output_type": "execute_result"
    }
   ],
   "source": [
    "alldata[\"Light_Conditions\"].unique()"
   ]
  },
  {
   "cell_type": "code",
   "execution_count": 34,
   "id": "91853bf5",
   "metadata": {},
   "outputs": [
    {
     "data": {
      "text/plain": [
       "array(['Wet/Damp', 'Dry', 'Frost/Ice', 'Snow',\n",
       "       'Flood (Over 3cm of water)'], dtype=object)"
      ]
     },
     "execution_count": 34,
     "metadata": {},
     "output_type": "execute_result"
    }
   ],
   "source": [
    "alldata[\"Road_Surface_Conditions\"].unique()"
   ]
  },
  {
   "cell_type": "code",
   "execution_count": 35,
   "id": "e30b0763",
   "metadata": {},
   "outputs": [],
   "source": [
    "\n",
    "alldata[\"Road_Type\"]=[1 if each == \"Single carriageway\" else 2\n",
    "                          if each == \"Dual carriageway\" else 3\n",
    "                          if each == \"One way street\" else 4\n",
    "                          if each == \"Roundabout\" else 5\n",
    "                          if each == \"Slip road\" else 6\n",
    "                          for each in alldata[\"Road_Type\"]]"
   ]
  },
  {
   "cell_type": "code",
   "execution_count": 36,
   "id": "b356b032",
   "metadata": {},
   "outputs": [],
   "source": [
    "alldata[\"Weather_Conditions\"].unique()\n",
    "alldata[\"Weather_Conditions\"]=[1 if each == \"Raining without high winds\" else 2\n",
    "                          if each == \"Fine without high winds\" else 3\n",
    "                          if each == \"Unknown\" else 4\n",
    "                          if each == \"Snowing without high winds\" else 5\n",
    "                          if each == \"Other\" else 6\n",
    "                          if each == \"Fine with high winds\" else 7\n",
    "                          if each == \"Raining with high winds\" else 8\n",
    "                          if each == \"Fog or mist\" else 9         \n",
    "                          for each in alldata[\"Weather_Conditions\"]]"
   ]
  },
  {
   "cell_type": "code",
   "execution_count": 37,
   "id": "308b27d7",
   "metadata": {},
   "outputs": [],
   "source": [
    "alldata[\"Road_Surface_Conditions\"]=[1 if each == \"Wet/Damp\" else 2\n",
    "                          if each == \"Dry\" else 3\n",
    "                          if each == \"Frost/Ice\" else 4\n",
    "                          if each == \"Snow\" else 5       \n",
    "                          for each in alldata[\"Road_Surface_Conditions\"]]"
   ]
  },
  {
   "cell_type": "code",
   "execution_count": 38,
   "id": "79d9310c",
   "metadata": {},
   "outputs": [],
   "source": [
    "alldata[\"Light_Conditions\"]=[1 if each == \"Daylight: Street light present\" else 2\n",
    "                          if each == \"Darkness: Street lights present and lit\" else 3\n",
    "                          if each == \"Darkness: Street lighting unknown\" else 4\n",
    "                          if each == \"Darkness: Street lights present but unlit\" else 5  \n",
    "                          if each == \"Darkeness: No street lighting\" else 6\n",
    "                          for each in alldata[\"Light_Conditions\"]]"
   ]
  },
  {
   "cell_type": "code",
   "execution_count": 39,
   "id": "f79f5875",
   "metadata": {},
   "outputs": [
    {
     "data": {
      "text/html": [
       "<div>\n",
       "<style scoped>\n",
       "    .dataframe tbody tr th:only-of-type {\n",
       "        vertical-align: middle;\n",
       "    }\n",
       "\n",
       "    .dataframe tbody tr th {\n",
       "        vertical-align: top;\n",
       "    }\n",
       "\n",
       "    .dataframe thead th {\n",
       "        text-align: right;\n",
       "    }\n",
       "</style>\n",
       "<table border=\"1\" class=\"dataframe\">\n",
       "  <thead>\n",
       "    <tr style=\"text-align: right;\">\n",
       "      <th></th>\n",
       "      <th>Accident_Severity</th>\n",
       "      <th>Number_of_Casualties</th>\n",
       "      <th>Number_of_Vehicles</th>\n",
       "      <th>Day_of_Week</th>\n",
       "      <th>Road_Type</th>\n",
       "      <th>Light_Conditions</th>\n",
       "      <th>Weather_Conditions</th>\n",
       "      <th>Road_Surface_Conditions</th>\n",
       "      <th>Year</th>\n",
       "      <th>Urban_or_Rural_Area</th>\n",
       "    </tr>\n",
       "  </thead>\n",
       "  <tbody>\n",
       "    <tr>\n",
       "      <th>0</th>\n",
       "      <td>2</td>\n",
       "      <td>1</td>\n",
       "      <td>1</td>\n",
       "      <td>3</td>\n",
       "      <td>1</td>\n",
       "      <td>1</td>\n",
       "      <td>1</td>\n",
       "      <td>1</td>\n",
       "      <td>2005</td>\n",
       "      <td>1</td>\n",
       "    </tr>\n",
       "    <tr>\n",
       "      <th>1</th>\n",
       "      <td>3</td>\n",
       "      <td>1</td>\n",
       "      <td>1</td>\n",
       "      <td>4</td>\n",
       "      <td>2</td>\n",
       "      <td>2</td>\n",
       "      <td>2</td>\n",
       "      <td>2</td>\n",
       "      <td>2005</td>\n",
       "      <td>1</td>\n",
       "    </tr>\n",
       "    <tr>\n",
       "      <th>2</th>\n",
       "      <td>3</td>\n",
       "      <td>1</td>\n",
       "      <td>2</td>\n",
       "      <td>5</td>\n",
       "      <td>1</td>\n",
       "      <td>2</td>\n",
       "      <td>2</td>\n",
       "      <td>2</td>\n",
       "      <td>2005</td>\n",
       "      <td>1</td>\n",
       "    </tr>\n",
       "    <tr>\n",
       "      <th>3</th>\n",
       "      <td>3</td>\n",
       "      <td>1</td>\n",
       "      <td>1</td>\n",
       "      <td>6</td>\n",
       "      <td>1</td>\n",
       "      <td>1</td>\n",
       "      <td>2</td>\n",
       "      <td>2</td>\n",
       "      <td>2005</td>\n",
       "      <td>1</td>\n",
       "    </tr>\n",
       "    <tr>\n",
       "      <th>4</th>\n",
       "      <td>3</td>\n",
       "      <td>1</td>\n",
       "      <td>1</td>\n",
       "      <td>2</td>\n",
       "      <td>1</td>\n",
       "      <td>3</td>\n",
       "      <td>2</td>\n",
       "      <td>1</td>\n",
       "      <td>2005</td>\n",
       "      <td>1</td>\n",
       "    </tr>\n",
       "  </tbody>\n",
       "</table>\n",
       "</div>"
      ],
      "text/plain": [
       "   Accident_Severity  Number_of_Casualties  Number_of_Vehicles  Day_of_Week  \\\n",
       "0                  2                     1                   1            3   \n",
       "1                  3                     1                   1            4   \n",
       "2                  3                     1                   2            5   \n",
       "3                  3                     1                   1            6   \n",
       "4                  3                     1                   1            2   \n",
       "\n",
       "   Road_Type  Light_Conditions  Weather_Conditions  Road_Surface_Conditions  \\\n",
       "0          1                 1                   1                        1   \n",
       "1          2                 2                   2                        2   \n",
       "2          1                 2                   2                        2   \n",
       "3          1                 1                   2                        2   \n",
       "4          1                 3                   2                        1   \n",
       "\n",
       "   Year  Urban_or_Rural_Area  \n",
       "0  2005                    1  \n",
       "1  2005                    1  \n",
       "2  2005                    1  \n",
       "3  2005                    1  \n",
       "4  2005                    1  "
      ]
     },
     "execution_count": 39,
     "metadata": {},
     "output_type": "execute_result"
    }
   ],
   "source": [
    "alldata.head()\n"
   ]
  },
  {
   "cell_type": "code",
   "execution_count": 40,
   "id": "358d4799",
   "metadata": {},
   "outputs": [
    {
     "data": {
      "text/plain": [
       "((1201549, 9), (300388, 9), (1201549,), (300388,))"
      ]
     },
     "execution_count": 40,
     "metadata": {},
     "output_type": "execute_result"
    }
   ],
   "source": [
    "X = alldata.drop([\"Accident_Severity\"],axis=1).values\n",
    "y = alldata[\"Accident_Severity\"].values\n",
    "\n",
    "from sklearn.model_selection import train_test_split\n",
    "X_train, X_test, y_train, y_test = train_test_split(X,y, test_size=0.2, random_state=0)\n",
    "X_train.shape, X_test.shape, y_train.shape, y_test.shape"
   ]
  },
  {
   "cell_type": "markdown",
   "id": "eefd6230",
   "metadata": {},
   "source": [
    "# Random Forest Regression"
   ]
  },
  {
   "cell_type": "code",
   "execution_count": 50,
   "id": "b8d346eb",
   "metadata": {},
   "outputs": [],
   "source": [
    "from sklearn.preprocessing import StandardScaler\n",
    "sc = StandardScaler()\n",
    "X_train = sc.fit_transform(X_train)\n",
    "X_test = sc.transform(X_test)"
   ]
  },
  {
   "cell_type": "code",
   "execution_count": 51,
   "id": "e86249a3",
   "metadata": {},
   "outputs": [],
   "source": [
    "import time\n",
    "from sklearn.ensemble import RandomForestRegressor\n",
    "\n",
    "time_start = time.time()\n"
   ]
  },
  {
   "cell_type": "code",
   "execution_count": 52,
   "id": "27bd7cd8",
   "metadata": {},
   "outputs": [
    {
     "name": "stdout",
     "output_type": "stream",
     "text": [
      "Run time : 212.4234266281128\n"
     ]
    }
   ],
   "source": [
    "regressor = RandomForestRegressor(n_estimators=100, max_features = 0.5)\n",
    "regressor.fit(X_train, y_train)\n",
    "y_pred = regressor.predict(X_test)\n",
    "\n",
    "time_end = time.time() \n",
    "print(f'Run time : {time_end - time_start}')"
   ]
  },
  {
   "cell_type": "code",
   "execution_count": 53,
   "id": "45e078f0",
   "metadata": {},
   "outputs": [
    {
     "name": "stdout",
     "output_type": "stream",
     "text": [
      "Training Score:  0.13311208054146095\n",
      "Testing Score:   -4.8900930620376926e-05\n",
      "Root Mean Squared Error: 0.40219286351898875\n"
     ]
    }
   ],
   "source": [
    "from sklearn import metrics\n",
    "\n",
    "print('Training Score: ', regressor.score(X_train, y_train))\n",
    "print('Testing Score:  ', regressor.score(X_test, y_test))\n",
    "print('Root Mean Squared Error:', np.sqrt(metrics.mean_squared_error(y_test, y_pred)))"
   ]
  },
  {
   "cell_type": "code",
   "execution_count": null,
   "id": "1b10abfa",
   "metadata": {},
   "outputs": [],
   "source": []
  },
  {
   "cell_type": "code",
   "execution_count": null,
   "id": "977ae0fa",
   "metadata": {},
   "outputs": [],
   "source": []
  },
  {
   "cell_type": "code",
   "execution_count": null,
   "id": "e3409149",
   "metadata": {},
   "outputs": [],
   "source": []
  },
  {
   "cell_type": "code",
   "execution_count": null,
   "id": "b615435e",
   "metadata": {},
   "outputs": [],
   "source": []
  },
  {
   "cell_type": "code",
   "execution_count": null,
   "id": "655b45a8",
   "metadata": {},
   "outputs": [],
   "source": []
  },
  {
   "cell_type": "code",
   "execution_count": null,
   "id": "a22439bb",
   "metadata": {},
   "outputs": [],
   "source": []
  }
 ],
 "metadata": {
  "kernelspec": {
   "display_name": "Python 3 (ipykernel)",
   "language": "python",
   "name": "python3"
  },
  "language_info": {
   "codemirror_mode": {
    "name": "ipython",
    "version": 3
   },
   "file_extension": ".py",
   "mimetype": "text/x-python",
   "name": "python",
   "nbconvert_exporter": "python",
   "pygments_lexer": "ipython3",
   "version": "3.10.2"
  }
 },
 "nbformat": 4,
 "nbformat_minor": 5
}
